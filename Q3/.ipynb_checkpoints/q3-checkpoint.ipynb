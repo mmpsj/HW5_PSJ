{
 "cells": [
  {
   "cell_type": "code",
   "execution_count": 18,
   "id": "225f0cbb",
   "metadata": {},
   "outputs": [
    {
     "name": "stdout",
     "output_type": "stream",
     "text": [
      "*** Subway Report for Seoul on March 2023 ***\n",
      "1st Busiest Line: Line 2 (85620512)\n",
      "2nd Busiest Line: Line 5 (39671990)\n",
      "1st Least used Line: Line 8 (11863928)\n",
      "2nd Least used Line: Line 1 (14705833)\n"
     ]
    }
   ],
   "source": [
    "import csv\n",
    "def q3():\n",
    "    f = open('q3.csv', 'r', encoding = 'cp949')\n",
    "    data = csv.reader(f, delimiter = ',')\n",
    "    header = next(data)\n",
    "    people = {\"1호선\":0, \"2호선\":0, \"3호선\":0, \"4호선\":0, \"5호선\":0, \"6호선\":0, \"7호선\":0, \"8호선\":0, \"9호선\":0}\n",
    "    for row in data:\n",
    "        people[row[1]] += int(row[4]) + int(row[5])\n",
    "    desc_sort_people = sorted(people.items(), key = lambda x:x[1], reverse = True)\n",
    "    print(\"*** Subway Report for Seoul on March 2023 ***\")\n",
    "    print(\"1st Busiest Line: Line {0:s} ({1:d})\".format(desc_sort_people[0][0][0], desc_sort_people[0][1]))\n",
    "    print(\"2nd Busiest Line: Line {0:s} ({1:d})\".format(desc_sort_people[1][0][0], desc_sort_people[1][1]))\n",
    "    print(\"1st Least used Line: Line {0:s} ({1:d})\".format(desc_sort_people[8][0][0], desc_sort_people[8][1]))\n",
    "    print(\"2nd Least used Line: Line {0:s} ({1:d})\".format(desc_sort_people[7][0][0], desc_sort_people[7][1]))\n",
    "    \n",
    "if __name__ == \"__main__\":\n",
    "    q3()"
   ]
  }
 ],
 "metadata": {
  "kernelspec": {
   "display_name": "Python 3 (ipykernel)",
   "language": "python",
   "name": "python3"
  },
  "language_info": {
   "codemirror_mode": {
    "name": "ipython",
    "version": 3
   },
   "file_extension": ".py",
   "mimetype": "text/x-python",
   "name": "python",
   "nbconvert_exporter": "python",
   "pygments_lexer": "ipython3",
   "version": "3.11.2"
  }
 },
 "nbformat": 4,
 "nbformat_minor": 5
}
