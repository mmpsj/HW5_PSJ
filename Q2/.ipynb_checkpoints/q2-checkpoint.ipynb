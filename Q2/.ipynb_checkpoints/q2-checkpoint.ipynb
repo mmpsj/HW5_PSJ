{
 "cells": [
  {
   "cell_type": "code",
   "execution_count": 6,
   "id": "e8ab132e",
   "metadata": {},
   "outputs": [
    {
     "name": "stdout",
     "output_type": "stream",
     "text": [
      "*** Annual Temperature Report for Seoul in 2022 ***\n",
      "Day with the Largest Temperature Variation: 2022-11-29\n",
      "Maximum Temperature Difference: 16.6\n",
      "Day with the Smallest Temperature Variation: 2022-06-29\n",
      "Minimum Temperature Difference: 1.7\n"
     ]
    }
   ],
   "source": [
    "import csv\n",
    "def q2():\n",
    "    f = open('q2.csv', 'r', encoding = 'cp949')\n",
    "    data = csv.reader(f, delimiter = ',')\n",
    "    header = next(data)\n",
    "    max_date = ''\n",
    "    max_diff = 0\n",
    "    min_date = ''\n",
    "    min_diff = 100\n",
    "    for row in data:\n",
    "        if (len(row[3]) != 0 and len(row[4]) != 0):\n",
    "            diff = float(row[4]) - float(row[3])\n",
    "            if (diff > max_diff):\n",
    "                max_date = row[0]\n",
    "                max_diff = diff\n",
    "            if (diff < min_diff):\n",
    "                min_date = row[0]\n",
    "                min_diff = diff\n",
    "    print(\"*** Annual Temperature Report for Seoul in 2022 ***\")\n",
    "    print(\"Day with the Largest Temperature Variation: {0:s}\".format(max_date))\n",
    "    print(\"Maximum Temperature Difference: {0:.1f}\".format(max_diff))\n",
    "    print(\"Day with the Smallest Temperature Variation: {0:s}\".format(min_date))\n",
    "    print(\"Minimum Temperature Difference: {0:.1f}\".format(min_diff))\n",
    "    \n",
    "if __name__ == \"__main__\":\n",
    "    q2()"
   ]
  }
 ],
 "metadata": {
  "kernelspec": {
   "display_name": "Python 3 (ipykernel)",
   "language": "python",
   "name": "python3"
  },
  "language_info": {
   "codemirror_mode": {
    "name": "ipython",
    "version": 3
   },
   "file_extension": ".py",
   "mimetype": "text/x-python",
   "name": "python",
   "nbconvert_exporter": "python",
   "pygments_lexer": "ipython3",
   "version": "3.11.2"
  }
 },
 "nbformat": 4,
 "nbformat_minor": 5
}
