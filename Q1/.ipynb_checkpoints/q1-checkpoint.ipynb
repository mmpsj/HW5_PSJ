{
 "cells": [
  {
   "cell_type": "code",
   "execution_count": 21,
   "id": "e0b42e7b",
   "metadata": {},
   "outputs": [
    {
     "name": "stdout",
     "output_type": "stream",
     "text": [
      "*** Annual Temperature Report for Seoul in 2022 ***\n",
      "Average Temperature: 13.26 Celcius\n",
      "Average Minimum Temperature: 9.21 Celcius\n",
      "Average Maximum Temperature: 18.05 Celcius\n"
     ]
    }
   ],
   "source": [
    "import csv\n",
    "def q1():\n",
    "    f = open('q1.csv', 'r', encoding = 'cp949')\n",
    "    data = csv.reader(f, delimiter = ',')\n",
    "    header = next(data)\n",
    "    count = 0\n",
    "    avg_sum = 0\n",
    "    avg_min = 0\n",
    "    avg_max = 0\n",
    "    for row in data:\n",
    "        if (len(row[2]) != 0 and len(row[3]) != 0 and len(row[4]) != 0):\n",
    "            avg_sum += float(row[2])\n",
    "            avg_min += float(row[3])\n",
    "            avg_max += float(row[4])\n",
    "            count += 1\n",
    "        else:\n",
    "            continue\n",
    "    avg_sum = avg_sum / count\n",
    "    avg_min = avg_min / count\n",
    "    avg_max = avg_max / count\n",
    "    print(\"*** Annual Temperature Report for Seoul in 2022 ***\")\n",
    "    print(\"Average Temperature: {0:.2f} Celcius\".format(round(avg_sum, 2)))\n",
    "    print(\"Average Minimum Temperature: {0:.2f} Celcius\".format(round(avg_min, 2)))\n",
    "    print(\"Average Maximum Temperature: {0:.2f} Celcius\".format(round(avg_max, 2)))\n",
    "    f.close()\n",
    "    \n",
    "if __name__ == \"__main__\":\n",
    "    q1()"
   ]
  }
 ],
 "metadata": {
  "kernelspec": {
   "display_name": "Python 3 (ipykernel)",
   "language": "python",
   "name": "python3"
  },
  "language_info": {
   "codemirror_mode": {
    "name": "ipython",
    "version": 3
   },
   "file_extension": ".py",
   "mimetype": "text/x-python",
   "name": "python",
   "nbconvert_exporter": "python",
   "pygments_lexer": "ipython3",
   "version": "3.11.2"
  }
 },
 "nbformat": 4,
 "nbformat_minor": 5
}
