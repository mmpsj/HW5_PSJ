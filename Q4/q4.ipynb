{
 "cells": [
  {
   "cell_type": "code",
   "execution_count": 9,
   "id": "d7c7f170",
   "metadata": {},
   "outputs": [
    {
     "name": "stdout",
     "output_type": "stream",
     "text": [
      "*** Subway Report for Seoul on March 2023 ***\n",
      "Line 1:\n",
      "Busiest Station: 서울역 (3084227)\n",
      "Least used Station: 동묘앞 (658566)\n",
      "Line 2:\n",
      "Busiest Station: 강남 (4690366)\n",
      "Least used Station: 도림천 (80084)\n",
      "Line 3:\n",
      "Busiest Station: 고속터미널 (2886887)\n",
      "Least used Station: 충무로 (48)\n",
      "Line 4:\n",
      "Busiest Station: 혜화 (2286709)\n",
      "Least used Station: 남태령 (79916)\n"
     ]
    }
   ],
   "source": [
    "import csv\n",
    "def q4():\n",
    "    f = open('q4.csv', 'r', encoding = 'cp949')\n",
    "    data = csv.reader(f, delimiter = ',')\n",
    "    header = next(data)\n",
    "    max_name = ['','','','']\n",
    "    max_people = [0, 0, 0, 0]\n",
    "    min_name = ['','','','']\n",
    "    min_people = [99999999, 99999999, 99999999, 99999999]\n",
    "    for row in data:\n",
    "        people = int(row[4]) + int(row[5])\n",
    "        if people > max_people[int(row[1][0]) - 1]:\n",
    "            max_people[int(row[1][0]) - 1] = people\n",
    "            max_name[int(row[1][0]) - 1] = row[3]\n",
    "        if people < min_people[int(row[1][0]) - 1]:\n",
    "            min_people[int(row[1][0]) - 1] = people\n",
    "            min_name[int(row[1][0]) - 1] = row[3]\n",
    "    print(\"*** Subway Report for Seoul on March 2023 ***\")\n",
    "    for i in range(0, 4):\n",
    "        print(\"Line {0:d}:\".format(i + 1))\n",
    "        print(\"Busiest Station: {0:s} ({1:d})\".format(max_name[i], max_people[i]))\n",
    "        print(\"Least used Station: {0:s} ({1:d})\".format(min_name[i], min_people[i]))\n",
    "        \n",
    "if __name__ == \"__main__\":\n",
    "    q4()"
   ]
  }
 ],
 "metadata": {
  "kernelspec": {
   "display_name": "Python 3 (ipykernel)",
   "language": "python",
   "name": "python3"
  },
  "language_info": {
   "codemirror_mode": {
    "name": "ipython",
    "version": 3
   },
   "file_extension": ".py",
   "mimetype": "text/x-python",
   "name": "python",
   "nbconvert_exporter": "python",
   "pygments_lexer": "ipython3",
   "version": "3.11.2"
  }
 },
 "nbformat": 4,
 "nbformat_minor": 5
}
